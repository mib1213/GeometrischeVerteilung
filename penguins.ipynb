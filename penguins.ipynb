{
 "cells": [
  {
   "cell_type": "markdown",
   "metadata": {},
   "source": [
    "Gruppe 5: Ben, Eray und Omer\n",
    "\n",
    "Thema: Geometrische Verteilung"
   ]
  },
  {
   "cell_type": "code",
   "execution_count": 2,
   "metadata": {},
   "outputs": [],
   "source": [
    "import matplotlib.pyplot as plt\n",
    "import seaborn as sns\n",
    "import numpy as np"
   ]
  },
  {
   "cell_type": "markdown",
   "metadata": {},
   "source": [
    "### Geometrische Verteilung\n",
    "\n",
    "Ein Bernourlli-Versuch wird bei gleichbleibender Wahrscheinlichkeit $\\pi = P(A)$ so lange wiederholt, bis zum ersten Mal das interessierende Ereignis A eintritt. Dann ist die Zufallsvariable\n",
    "\n",
    "$S =$ \"Anzahl der Versuche, bis zum ersten Mal A eintritt\"\n",
    "\n",
    "geometrisch verteilt mit Parameter  $\\pi$, kurz $X ~ G(\\pi)$. Der Träger von $X$ ist $\\tau$ = ${1, 2, 3, ...} = \\mathbb{N}$. Die Wahrscheinlichkeitsverteilung ist durch\n",
    "\n",
    "$$P(X = x) = (1 - \\pi)^{x-1}\\pi$$\n",
    "\n",
    "gegeben.\n",
    "\n",
    "*~Quelle: Statistik - Der Weg zur Datenanalyse*"
   ]
  },
  {
   "cell_type": "code",
   "execution_count": 3,
   "metadata": {},
   "outputs": [
    {
     "data": {
      "text/html": [
       "<div>\n",
       "<style scoped>\n",
       "    .dataframe tbody tr th:only-of-type {\n",
       "        vertical-align: middle;\n",
       "    }\n",
       "\n",
       "    .dataframe tbody tr th {\n",
       "        vertical-align: top;\n",
       "    }\n",
       "\n",
       "    .dataframe thead th {\n",
       "        text-align: right;\n",
       "    }\n",
       "</style>\n",
       "<table border=\"1\" class=\"dataframe\">\n",
       "  <thead>\n",
       "    <tr style=\"text-align: right;\">\n",
       "      <th></th>\n",
       "      <th>species</th>\n",
       "      <th>island</th>\n",
       "      <th>bill_length_mm</th>\n",
       "      <th>bill_depth_mm</th>\n",
       "      <th>flipper_length_mm</th>\n",
       "      <th>body_mass_g</th>\n",
       "      <th>sex</th>\n",
       "    </tr>\n",
       "  </thead>\n",
       "  <tbody>\n",
       "    <tr>\n",
       "      <th>0</th>\n",
       "      <td>Adelie</td>\n",
       "      <td>Torgersen</td>\n",
       "      <td>39.1</td>\n",
       "      <td>18.7</td>\n",
       "      <td>181.0</td>\n",
       "      <td>3750.0</td>\n",
       "      <td>Male</td>\n",
       "    </tr>\n",
       "    <tr>\n",
       "      <th>1</th>\n",
       "      <td>Adelie</td>\n",
       "      <td>Torgersen</td>\n",
       "      <td>39.5</td>\n",
       "      <td>17.4</td>\n",
       "      <td>186.0</td>\n",
       "      <td>3800.0</td>\n",
       "      <td>Female</td>\n",
       "    </tr>\n",
       "    <tr>\n",
       "      <th>2</th>\n",
       "      <td>Adelie</td>\n",
       "      <td>Torgersen</td>\n",
       "      <td>40.3</td>\n",
       "      <td>18.0</td>\n",
       "      <td>195.0</td>\n",
       "      <td>3250.0</td>\n",
       "      <td>Female</td>\n",
       "    </tr>\n",
       "    <tr>\n",
       "      <th>3</th>\n",
       "      <td>Adelie</td>\n",
       "      <td>Torgersen</td>\n",
       "      <td>NaN</td>\n",
       "      <td>NaN</td>\n",
       "      <td>NaN</td>\n",
       "      <td>NaN</td>\n",
       "      <td>NaN</td>\n",
       "    </tr>\n",
       "    <tr>\n",
       "      <th>4</th>\n",
       "      <td>Adelie</td>\n",
       "      <td>Torgersen</td>\n",
       "      <td>36.7</td>\n",
       "      <td>19.3</td>\n",
       "      <td>193.0</td>\n",
       "      <td>3450.0</td>\n",
       "      <td>Female</td>\n",
       "    </tr>\n",
       "    <tr>\n",
       "      <th>...</th>\n",
       "      <td>...</td>\n",
       "      <td>...</td>\n",
       "      <td>...</td>\n",
       "      <td>...</td>\n",
       "      <td>...</td>\n",
       "      <td>...</td>\n",
       "      <td>...</td>\n",
       "    </tr>\n",
       "    <tr>\n",
       "      <th>339</th>\n",
       "      <td>Gentoo</td>\n",
       "      <td>Biscoe</td>\n",
       "      <td>NaN</td>\n",
       "      <td>NaN</td>\n",
       "      <td>NaN</td>\n",
       "      <td>NaN</td>\n",
       "      <td>NaN</td>\n",
       "    </tr>\n",
       "    <tr>\n",
       "      <th>340</th>\n",
       "      <td>Gentoo</td>\n",
       "      <td>Biscoe</td>\n",
       "      <td>46.8</td>\n",
       "      <td>14.3</td>\n",
       "      <td>215.0</td>\n",
       "      <td>4850.0</td>\n",
       "      <td>Female</td>\n",
       "    </tr>\n",
       "    <tr>\n",
       "      <th>341</th>\n",
       "      <td>Gentoo</td>\n",
       "      <td>Biscoe</td>\n",
       "      <td>50.4</td>\n",
       "      <td>15.7</td>\n",
       "      <td>222.0</td>\n",
       "      <td>5750.0</td>\n",
       "      <td>Male</td>\n",
       "    </tr>\n",
       "    <tr>\n",
       "      <th>342</th>\n",
       "      <td>Gentoo</td>\n",
       "      <td>Biscoe</td>\n",
       "      <td>45.2</td>\n",
       "      <td>14.8</td>\n",
       "      <td>212.0</td>\n",
       "      <td>5200.0</td>\n",
       "      <td>Female</td>\n",
       "    </tr>\n",
       "    <tr>\n",
       "      <th>343</th>\n",
       "      <td>Gentoo</td>\n",
       "      <td>Biscoe</td>\n",
       "      <td>49.9</td>\n",
       "      <td>16.1</td>\n",
       "      <td>213.0</td>\n",
       "      <td>5400.0</td>\n",
       "      <td>Male</td>\n",
       "    </tr>\n",
       "  </tbody>\n",
       "</table>\n",
       "<p>344 rows × 7 columns</p>\n",
       "</div>"
      ],
      "text/plain": [
       "    species     island  bill_length_mm  bill_depth_mm  flipper_length_mm  \\\n",
       "0    Adelie  Torgersen            39.1           18.7              181.0   \n",
       "1    Adelie  Torgersen            39.5           17.4              186.0   \n",
       "2    Adelie  Torgersen            40.3           18.0              195.0   \n",
       "3    Adelie  Torgersen             NaN            NaN                NaN   \n",
       "4    Adelie  Torgersen            36.7           19.3              193.0   \n",
       "..      ...        ...             ...            ...                ...   \n",
       "339  Gentoo     Biscoe             NaN            NaN                NaN   \n",
       "340  Gentoo     Biscoe            46.8           14.3              215.0   \n",
       "341  Gentoo     Biscoe            50.4           15.7              222.0   \n",
       "342  Gentoo     Biscoe            45.2           14.8              212.0   \n",
       "343  Gentoo     Biscoe            49.9           16.1              213.0   \n",
       "\n",
       "     body_mass_g     sex  \n",
       "0         3750.0    Male  \n",
       "1         3800.0  Female  \n",
       "2         3250.0  Female  \n",
       "3            NaN     NaN  \n",
       "4         3450.0  Female  \n",
       "..           ...     ...  \n",
       "339          NaN     NaN  \n",
       "340       4850.0  Female  \n",
       "341       5750.0    Male  \n",
       "342       5200.0  Female  \n",
       "343       5400.0    Male  \n",
       "\n",
       "[344 rows x 7 columns]"
      ]
     },
     "execution_count": 3,
     "metadata": {},
     "output_type": "execute_result"
    }
   ],
   "source": [
    "df = sns.load_dataset('penguins')\n",
    "df"
   ]
  },
  {
   "cell_type": "code",
   "execution_count": 4,
   "metadata": {},
   "outputs": [
    {
     "data": {
      "text/plain": [
       "species\n",
       "Adelie       0.441860\n",
       "Gentoo       0.360465\n",
       "Chinstrap    0.197674\n",
       "Name: proportion, dtype: float64"
      ]
     },
     "execution_count": 4,
     "metadata": {},
     "output_type": "execute_result"
    }
   ],
   "source": [
    "df.species.value_counts('normalize')"
   ]
  },
  {
   "cell_type": "code",
   "execution_count": 5,
   "metadata": {},
   "outputs": [
    {
     "name": "stdout",
     "output_type": "stream",
     "text": [
      "p = 0.197\n"
     ]
    }
   ],
   "source": [
    "ps = []\n",
    "\n",
    "for i in range(1000):\n",
    "    count = 0\n",
    "    for i in range(100):\n",
    "        if df.species.sample(1).values[0] == 'Chinstrap':\n",
    "            count += 1\n",
    "    p = count / 100\n",
    "    ps.append(p)\n",
    "ps = np.array(ps)\n",
    "p = round(np.average(ps), 3)\n",
    "print(f\"p = {p}\")"
   ]
  },
  {
   "cell_type": "markdown",
   "metadata": {},
   "source": [
    "### Wahrscheinlichkeitsverteilung\n",
    "\n",
    "#### Formel Herleitung:\n",
    "\n",
    "Angenommen, wir haben $10$ Versuche benötigt, bis zum ersten Mal $A$ eintritt, und in den vorherigen Versuchen trat jeweils das Ereignis $\\bar{A}$ ein. Dann lässt sich $P(A)$ unter Berücksichtigung der bedingten Wahrscheinlichkeit wie folgt bestimmen:\n",
    "\n",
    "\n",
    "$$\\Rightarrow P(X = x) = P(\\bar{A})\\,P(\\bar{A})\\, \\ldots P(\\bar{A})\\,P(A)$$\n",
    "\n",
    "$$\\therefore (\\bar{A}) \\, \\, \\text{ist} \\, (x-1) \\, \\, \\text{mal}$$\n",
    "\n",
    "$$\\Rightarrow P(X = x) = P(\\bar{A})^{x-1}P(A)$$\n",
    "\n",
    "$$\\Leftrightarrow \\boxed{P(X = x) = (1 - \\pi)^{x - 1}\\pi}$$\n",
    "\n",
    "#### Grenzwert Berechnen:\n",
    "Das ist auch eine geometrische Folge mit der Formel:\n",
    "\n",
    "$$a_n = \\pi (1 - \\pi)^{n - 1} \\quad \\text{wobei} \\quad n \\in X$$\n",
    "\n",
    "$$\\Leftrightarrow \\lim_{n \\to \\infty} a_n = \\pi \\, lim_{n \\to \\infty}(1 - \\pi)^{n - 1}$$\n",
    "\n",
    "$$\\therefore \\lim_{n \\to \\infty} r^n = 0 \\quad \\text{wenn} \\quad \\left| r \\right| < 1$$\n",
    "\n",
    "$$\\Rightarrow \\boxed{\\lim_{n \\to \\infty} a_n = 0} \\quad \\text{weil} \\quad 0 < 1 - \\pi < 1$$\n",
    "\n",
    "Das bedeutet, dass sich in einer geometrischen Verteilung $P(A)$ gegen $0$ annähert, wenn $x$ gegen unendlich geht. Man erkennt auch, dass diese Folge monoton fallend ist, das heißt, der größte Wert von $P(A)$ tritt immer bei $x = 1$ auf, und mit jedem weiteren $x$ wird $P(A)$ kleiner.\n",
    "\n",
    "#### Beispiel:\n",
    "Hier wollen wir die Wahrscheinlichkeiten für die ersten 15 Versuche unseres Beispiels \"Chinstrap\" bestimmen:\n",
    "\n",
    "$$P(A) = π = 0.197$$\n",
    "\n",
    "$$\\Leftrightarrow P(X = x) = (1 - \\pi)^{x-1} \\pi$$\n",
    "\n",
    "z.B. für $x = 2$:\n",
    "$$\\Rightarrow P(X = 2) = (1 - \\pi)^{2-1} \\pi$$\n",
    "$$\\Leftrightarrow P(X = 2) = (1 - 0.2) \\, 0.2$$\n",
    "$$\\Leftrightarrow \\boxed{P(X = 2) = 0.16}$$"
   ]
  },
  {
   "cell_type": "code",
   "execution_count": 6,
   "metadata": {},
   "outputs": [
    {
     "name": "stdout",
     "output_type": "stream",
     "text": [
      "P(X=1) = 0.2\n",
      "P(X=2) = 0.16\n",
      "P(X=3) = 0.13\n",
      "P(X=4) = 0.1\n",
      "P(X=5) = 0.08\n",
      "P(X=6) = 0.07\n",
      "P(X=7) = 0.05\n",
      "P(X=8) = 0.04\n",
      "P(X=9) = 0.03\n",
      "P(X=10) = 0.03\n",
      "P(X=11) = 0.02\n",
      "P(X=12) = 0.02\n",
      "P(X=13) = 0.01\n",
      "P(X=14) = 0.01\n",
      "P(X=15) = 0.01\n"
     ]
    }
   ],
   "source": [
    "#Wahrscheinlichkeiten bestimmen für x = 1 bis 15\n",
    "\n",
    "x = 15\n",
    "P_Xs = []\n",
    "F_Xs = []\n",
    "for i in range(1, x+1):\n",
    "    P_X = ((1 - p) ** (i - 1)) * p\n",
    "    P_Xs.append(round(P_X, 2))\n",
    "\n",
    "    F_X = 1 - (1 - p) ** (i)\n",
    "    F_Xs.append(round(F_X, 2))\n",
    "\n",
    "for i, P_X in enumerate(P_Xs, 1):\n",
    "    print(f\"P(X={i}) = {P_X}\")"
   ]
  },
  {
   "cell_type": "markdown",
   "metadata": {},
   "source": [
    "Hier ist die Wahrscheinlichkeit beim <i>1.</i> Versuch $0.2$, beim <i>2.</i> Versuch $0.16$, usw. bis zu $0.01$ beim <i>15.</i> Versuch."
   ]
  },
  {
   "cell_type": "markdown",
   "metadata": {},
   "source": [
    "### Verteilungsfunktion\n",
    "\n",
    "Die Verteilung ist die kumulative Summe von $P(X)$ bis zu einem bestimmten $x$.\n",
    "\n",
    "$$F(x) = P(X \\leq x) = P(X=1) \\, + \\, P(X+2) \\, + \\, \\ldots \\, + \\, P(X=x)$$\n",
    "\n",
    "$$\\Leftrightarrow F(x) = (1 - \\pi)^0 \\, \\pi \\, + \\, (1 - \\pi)^1 \\, \\pi \\, + \\, \\cdots \\, + \\, (1 - \\pi)^{x-1} \\, \\pi$$\n",
    "\n",
    "$$\\Leftrightarrow \\boxed{F(x) = \\pi \\, \\sum_{k=0}^{x-1} \\, (1 - \\pi)^k}$$\n",
    "\n",
    "#### Grenzwert Berechnen:\n",
    "Folgendes ist eine geometrische Reihe mit der Formel:\n",
    "\n",
    "$$\\therefore \\sum_{n=0}^{k} \\, q^n = \\frac{1 - q^{k+1}}{1 - q}$$\n",
    "\n",
    "$$\\Rightarrow F(x) = \\pi \\, \\left(\\frac{1 - (1 - \\pi)^{x-1+1}}{1 - (1 - \\pi)}\\right)$$\n",
    "\n",
    "$$\\Leftrightarrow \\boxed{F(x) = P(X \\leq x) = 1 - (1 - \\pi)^x}$$\n",
    "\n",
    "Dies ist auch eine geometrische Folge mit der Formel:\n",
    "\n",
    "$$s_n = 1 - (1 - \\pi)^n \\quad \\text{wobei} \\quad n \\in X$$\n",
    "\n",
    "$$\\Leftrightarrow \\lim_{n \\to \\infty} s_n = 1 - \\lim_{n \\to \\infty}(1 - \\pi)^n$$\n",
    "\n",
    "$$\\therefore \\lim_{n \\to \\infty} r^n = 0 \\quad \\text{wenn} \\quad \\left| r \\right| \\leq 1$$\n",
    "\n",
    "$$\\Rightarrow \\boxed{\\lim_{n \\to \\infty} s_n = 1}$$\n",
    "\n",
    "d.h. diese Verteilungsfunktion würde gegen 1 konvergieren, wenn $n$ zu unendlich geht.\n",
    "\n",
    "Die beiden Grenzwerte 0 und 1 zeigen, dass $\\pi$ nur Werte zwischen 0 und 1 annehmen kann.\n",
    "\n",
    "\n",
    "#### Beispiel:\n",
    "Hier wollen wir die kumulativen Summanden der Wahrscheinlichkeiten berechnen.\n",
    "\n",
    "z.B. für $x = 2$:\n",
    "$$ F(x) = P(X \\leq x) = 1 - (1 - \\pi)^x$$\n",
    "\n",
    "$$\\Leftrightarrow F(2) = 1 - (1 - 0.2)^2$$\n",
    "$$\\Leftrightarrow F(2) = 1 - (0.8)^2$$\n",
    "$$\\Leftrightarrow \\boxed{F(2) = 0.36}$$"
   ]
  },
  {
   "cell_type": "code",
   "execution_count": 7,
   "metadata": {},
   "outputs": [
    {
     "name": "stdout",
     "output_type": "stream",
     "text": [
      "F(1) = 0.2\n",
      "F(2) = 0.36\n",
      "F(3) = 0.48\n",
      "F(4) = 0.58\n",
      "F(5) = 0.67\n",
      "F(6) = 0.73\n",
      "F(7) = 0.78\n",
      "F(8) = 0.83\n",
      "F(9) = 0.86\n",
      "F(10) = 0.89\n",
      "F(11) = 0.91\n",
      "F(12) = 0.93\n",
      "F(13) = 0.94\n",
      "F(14) = 0.95\n",
      "F(15) = 0.96\n"
     ]
    }
   ],
   "source": [
    "for i, F_X in enumerate(F_Xs, 1):\n",
    "    print(f\"F({i}) = {F_X}\")"
   ]
  },
  {
   "cell_type": "markdown",
   "metadata": {},
   "source": [
    "### Erwartungswert\n",
    "\n",
    "$$E(X) =  \\frac{1}{P(A)}$$\n",
    "\n",
    "Beispiel: Bei einem Würfelwurf ist der Erwartungswert für das erste Auftreten einer 2 (oder einer anderen Zahl aus $\\Omega$) wie folgt gegeben:\n",
    "$$E(X = 2) = \\frac{1}{\\frac{1}{6}} = 6$$\n",
    "\n",
    "weil $P(A) = {\\Large \\frac{1}{6}}$ für jedes $\\Large \\omega$ "
   ]
  },
  {
   "cell_type": "code",
   "execution_count": 8,
   "metadata": {},
   "outputs": [
    {
     "name": "stdout",
     "output_type": "stream",
     "text": [
      "E(X) = 5.08\n"
     ]
    }
   ],
   "source": [
    "E_X = round(1 / p, 2)\n",
    "print(f\"E(X) = {E_X}\")"
   ]
  },
  {
   "cell_type": "markdown",
   "metadata": {},
   "source": [
    "### Median\n",
    "\n",
    "Der Median einer geometrischen Verteilung wird berechnet, indem man den kleinsten Wert $x \\in X$ bestimmt, für den $F(x) \\geq 0.5$ gilt, also die kumulative Verteilungsfunktion mindestens den Wert $0.5$ erreicht.\n",
    "\n",
    "\n",
    "$$x = F(X) ≥ 0.5$$"
   ]
  },
  {
   "cell_type": "code",
   "execution_count": 9,
   "metadata": {},
   "outputs": [
    {
     "name": "stdout",
     "output_type": "stream",
     "text": [
      "Median = 4\n"
     ]
    }
   ],
   "source": [
    "for F in F_Xs:\n",
    "    if F >= 0.5:\n",
    "        median = F_Xs.index(F) + 1\n",
    "        break\n",
    "print(f\"Median = {median}\")"
   ]
  },
  {
   "cell_type": "code",
   "execution_count": 12,
   "metadata": {},
   "outputs": [
    {
     "data": {
      "image/png": "[encoded data removed]",
      "text/plain": [
       "<Figure size 1200x600 with 2 Axes>"
      ]
     },
     "metadata": {},
     "output_type": "display_data"
    }
   ],
   "source": [
    "fig, ax = plt.subplots(1, 2, figsize=(12, 6), sharey=True)\n",
    "sns.set_style('white')\n",
    "sns.despine()\n",
    "sns.barplot(x=np.arange(1, 16), y=P_Xs, ax=ax[0], color='#009999', edgecolor='black', width=1.0)\n",
    "sns.barplot(x=np.arange(1, 16), y=F_Xs, ax=ax[1], color='#EC6602', edgecolor='black', width=1.0)\n",
    "ax[0].set_title('Wahrscheinlichkeitsverteilung')\n",
    "ax[1].set_title('Verteilungsfunktion')\n",
    "ax[0].set_xlabel('x')\n",
    "ax[0].set_ylabel('P(X=x)')\n",
    "ax[1].set_xlabel('x')\n",
    "ax[1].set_ylabel('P(X<=x)')\n",
    "ax[0].axvline(x=median - 1, color='r', linestyle='--', label=f'Median (x = {median})')\n",
    "ax[0].axvline(x=E_X - 1, color='b', linestyle='--', label=f'Erwartungswert (E(X) = {E_X})')\n",
    "ax[0].axhline(y=P_Xs[0], color='black', linestyle='--', label=f'P(X=1)')\n",
    "ax[1].axvline(x=median - 1, color='r', linestyle='--', label=f'Median (x = {median})')\n",
    "ax[1].axhline(y=0.5, color='black', linestyle='--', label=f'50% der Werte')\n",
    "ax[0].legend()\n",
    "ax[1].legend()\n",
    "ax[1].set_yticks(np.arange(0, 1.1, 0.1))\n",
    "fig.suptitle('Chinstrap Penguins')\n",
    "plt.tight_layout()\n",
    "plt.show();"
   ]
  },
  {
   "cell_type": "code",
   "execution_count": 11,
   "metadata": {},
   "outputs": [
    {
     "name": "stdout",
     "output_type": "stream",
     "text": [
      "Mittelwert = 5.25\n"
     ]
    }
   ],
   "source": [
    "chinstrap_occ = []\n",
    "position = 0\n",
    "i = 0\n",
    "while i < 100:\n",
    "    position += 1\n",
    "    if df.species.sample(1).values[0] == 'Chinstrap':\n",
    "        chinstrap_occ.append(position)\n",
    "        position = 0\n",
    "        i += 1\n",
    "chinstrap_occ = np.array(chinstrap_occ)\n",
    "avg = round(np.average(chinstrap_occ), 2)\n",
    "print(f\"Mittelwert = {avg}\")"
   ]
  },
  {
   "cell_type": "markdown",
   "metadata": {},
   "source": [
    "Hier sehen wir, dass unser Mittelwert $4$ sehr nahe an unserem theoretischen Erwartungswert $5$ liegt, d.h. wir haben eine Verzerrung von $1$. Wenn wir das Experiment mehrfach wiederholen, kann unser Mittelwert noch näher an den erwarteten Wert herankommen."
   ]
  }
 ],
 "metadata": {
  "kernelspec": {
   "display_name": "Python 3",
   "language": "python",
   "name": "python3"
  },
  "language_info": {
   "codemirror_mode": {
    "name": "ipython",
    "version": 3
   },
   "file_extension": ".py",
   "mimetype": "text/x-python",
   "name": "python",
   "nbconvert_exporter": "python",
   "pygments_lexer": "ipython3",
   "version": "3.11.10"
  }
 },
 "nbformat": 4,
 "nbformat_minor": 2
}
