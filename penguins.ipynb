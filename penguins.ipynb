{
 "cells": [
  {
   "cell_type": "code",
   "execution_count": 14,
   "metadata": {},
   "outputs": [],
   "source": [
    "import matplotlib.pyplot as plt\n",
    "import seaborn as sns\n",
    "import numpy as np"
   ]
  },
  {
   "cell_type": "markdown",
   "metadata": {},
   "source": [
    "<span style=\"color: white\">\n",
    "<h3>Geometrische Verteilung:</h3>\n",
    "\n",
    "Ein Bernourlli-Versuch werde bei gleichgebliebenden Wahrscheinlichkeiten $\\pi = P(A)$ so lange wiederholt, bis zum ersten Mal das interessierende Ereignis A eintritt. Dann heißt die Zufallsvariable\n",
    "\n",
    "$S =$ \"Anzahl der Versuche, bis zum ersten Mal A eintritt\"\n",
    "\n",
    "geometrisch verteilt mit Parameter mit Parameter $\\pi$, kurz $X ~ G(\\pi)$. Der Träger von $X$ ist $\\tau$ = ${1, 2, 3, ...} = \\mathbb{N}$. Die Wahrscheinlichkeitsverteilung ist durch\n",
    "\n",
    "$$P(X = x) = (1 - \\pi)^{x-1}\\pi$$\n",
    "\n",
    "gegeben.\n",
    "\n",
    "<i>~Quelle: Statistik - Der Weg zur Datenanalyse</i>\n",
    "\n",
    "</span>"
   ]
  },
  {
   "cell_type": "code",
   "execution_count": 2,
   "metadata": {},
   "outputs": [
    {
     "data": {
      "text/html": [
       "<div>\n",
       "<style scoped>\n",
       "    .dataframe tbody tr th:only-of-type {\n",
       "        vertical-align: middle;\n",
       "    }\n",
       "\n",
       "    .dataframe tbody tr th {\n",
       "        vertical-align: top;\n",
       "    }\n",
       "\n",
       "    .dataframe thead th {\n",
       "        text-align: right;\n",
       "    }\n",
       "</style>\n",
       "<table border=\"1\" class=\"dataframe\">\n",
       "  <thead>\n",
       "    <tr style=\"text-align: right;\">\n",
       "      <th></th>\n",
       "      <th>species</th>\n",
       "      <th>island</th>\n",
       "      <th>bill_length_mm</th>\n",
       "      <th>bill_depth_mm</th>\n",
       "      <th>flipper_length_mm</th>\n",
       "      <th>body_mass_g</th>\n",
       "      <th>sex</th>\n",
       "    </tr>\n",
       "  </thead>\n",
       "  <tbody>\n",
       "    <tr>\n",
       "      <th>0</th>\n",
       "      <td>Adelie</td>\n",
       "      <td>Torgersen</td>\n",
       "      <td>39.1</td>\n",
       "      <td>18.7</td>\n",
       "      <td>181.0</td>\n",
       "      <td>3750.0</td>\n",
       "      <td>Male</td>\n",
       "    </tr>\n",
       "    <tr>\n",
       "      <th>1</th>\n",
       "      <td>Adelie</td>\n",
       "      <td>Torgersen</td>\n",
       "      <td>39.5</td>\n",
       "      <td>17.4</td>\n",
       "      <td>186.0</td>\n",
       "      <td>3800.0</td>\n",
       "      <td>Female</td>\n",
       "    </tr>\n",
       "    <tr>\n",
       "      <th>2</th>\n",
       "      <td>Adelie</td>\n",
       "      <td>Torgersen</td>\n",
       "      <td>40.3</td>\n",
       "      <td>18.0</td>\n",
       "      <td>195.0</td>\n",
       "      <td>3250.0</td>\n",
       "      <td>Female</td>\n",
       "    </tr>\n",
       "    <tr>\n",
       "      <th>3</th>\n",
       "      <td>Adelie</td>\n",
       "      <td>Torgersen</td>\n",
       "      <td>NaN</td>\n",
       "      <td>NaN</td>\n",
       "      <td>NaN</td>\n",
       "      <td>NaN</td>\n",
       "      <td>NaN</td>\n",
       "    </tr>\n",
       "    <tr>\n",
       "      <th>4</th>\n",
       "      <td>Adelie</td>\n",
       "      <td>Torgersen</td>\n",
       "      <td>36.7</td>\n",
       "      <td>19.3</td>\n",
       "      <td>193.0</td>\n",
       "      <td>3450.0</td>\n",
       "      <td>Female</td>\n",
       "    </tr>\n",
       "    <tr>\n",
       "      <th>...</th>\n",
       "      <td>...</td>\n",
       "      <td>...</td>\n",
       "      <td>...</td>\n",
       "      <td>...</td>\n",
       "      <td>...</td>\n",
       "      <td>...</td>\n",
       "      <td>...</td>\n",
       "    </tr>\n",
       "    <tr>\n",
       "      <th>339</th>\n",
       "      <td>Gentoo</td>\n",
       "      <td>Biscoe</td>\n",
       "      <td>NaN</td>\n",
       "      <td>NaN</td>\n",
       "      <td>NaN</td>\n",
       "      <td>NaN</td>\n",
       "      <td>NaN</td>\n",
       "    </tr>\n",
       "    <tr>\n",
       "      <th>340</th>\n",
       "      <td>Gentoo</td>\n",
       "      <td>Biscoe</td>\n",
       "      <td>46.8</td>\n",
       "      <td>14.3</td>\n",
       "      <td>215.0</td>\n",
       "      <td>4850.0</td>\n",
       "      <td>Female</td>\n",
       "    </tr>\n",
       "    <tr>\n",
       "      <th>341</th>\n",
       "      <td>Gentoo</td>\n",
       "      <td>Biscoe</td>\n",
       "      <td>50.4</td>\n",
       "      <td>15.7</td>\n",
       "      <td>222.0</td>\n",
       "      <td>5750.0</td>\n",
       "      <td>Male</td>\n",
       "    </tr>\n",
       "    <tr>\n",
       "      <th>342</th>\n",
       "      <td>Gentoo</td>\n",
       "      <td>Biscoe</td>\n",
       "      <td>45.2</td>\n",
       "      <td>14.8</td>\n",
       "      <td>212.0</td>\n",
       "      <td>5200.0</td>\n",
       "      <td>Female</td>\n",
       "    </tr>\n",
       "    <tr>\n",
       "      <th>343</th>\n",
       "      <td>Gentoo</td>\n",
       "      <td>Biscoe</td>\n",
       "      <td>49.9</td>\n",
       "      <td>16.1</td>\n",
       "      <td>213.0</td>\n",
       "      <td>5400.0</td>\n",
       "      <td>Male</td>\n",
       "    </tr>\n",
       "  </tbody>\n",
       "</table>\n",
       "<p>344 rows × 7 columns</p>\n",
       "</div>"
      ],
      "text/plain": [
       "    species     island  bill_length_mm  bill_depth_mm  flipper_length_mm  \\\n",
       "0    Adelie  Torgersen            39.1           18.7              181.0   \n",
       "1    Adelie  Torgersen            39.5           17.4              186.0   \n",
       "2    Adelie  Torgersen            40.3           18.0              195.0   \n",
       "3    Adelie  Torgersen             NaN            NaN                NaN   \n",
       "4    Adelie  Torgersen            36.7           19.3              193.0   \n",
       "..      ...        ...             ...            ...                ...   \n",
       "339  Gentoo     Biscoe             NaN            NaN                NaN   \n",
       "340  Gentoo     Biscoe            46.8           14.3              215.0   \n",
       "341  Gentoo     Biscoe            50.4           15.7              222.0   \n",
       "342  Gentoo     Biscoe            45.2           14.8              212.0   \n",
       "343  Gentoo     Biscoe            49.9           16.1              213.0   \n",
       "\n",
       "     body_mass_g     sex  \n",
       "0         3750.0    Male  \n",
       "1         3800.0  Female  \n",
       "2         3250.0  Female  \n",
       "3            NaN     NaN  \n",
       "4         3450.0  Female  \n",
       "..           ...     ...  \n",
       "339          NaN     NaN  \n",
       "340       4850.0  Female  \n",
       "341       5750.0    Male  \n",
       "342       5200.0  Female  \n",
       "343       5400.0    Male  \n",
       "\n",
       "[344 rows x 7 columns]"
      ]
     },
     "execution_count": 2,
     "metadata": {},
     "output_type": "execute_result"
    }
   ],
   "source": [
    "df = sns.load_dataset('penguins')\n",
    "df"
   ]
  },
  {
   "cell_type": "code",
   "execution_count": 3,
   "metadata": {},
   "outputs": [
    {
     "data": {
      "text/plain": [
       "species\n",
       "Adelie       0.441860\n",
       "Gentoo       0.360465\n",
       "Chinstrap    0.197674\n",
       "Name: proportion, dtype: float64"
      ]
     },
     "execution_count": 3,
     "metadata": {},
     "output_type": "execute_result"
    }
   ],
   "source": [
    "df.species.value_counts('normalize')"
   ]
  },
  {
   "cell_type": "code",
   "execution_count": 4,
   "metadata": {},
   "outputs": [
    {
     "name": "stdout",
     "output_type": "stream",
     "text": [
      "p = 0.2\n"
     ]
    }
   ],
   "source": [
    "ps = []\n",
    "\n",
    "for i in range(1000):\n",
    "    count = 0\n",
    "    for i in range(100):\n",
    "        if df.species.sample(1).values[0] == 'Chinstrap':\n",
    "            count += 1\n",
    "    p = count / 100\n",
    "    ps.append(p)\n",
    "ps = np.array(ps)\n",
    "p = round(np.average(ps), 3)\n",
    "print(f\"p = {p}\")"
   ]
  },
  {
   "cell_type": "markdown",
   "metadata": {},
   "source": [
    "<span style=\"color: white\">\n",
    "<h3>Wahrscheinlichkeitsverteilung:</h3>\n",
    "\n",
    "<h4>Formel Herleitung:</h4>\n",
    "\n",
    "Sagen wir mal dass wir $10$ Versuche gebraucht haben, bis zum ersten Mal A eintritt, davor hatten wir das Ereignis $P(\\bar{A})$, dann laut der bedingten Wahrscheinlichkeit können wie $P(A)$ wie folgt bestimmen:</text>\n",
    "\n",
    "$$\\Rightarrow P(X = x) = P(\\bar{A})\\,P(\\bar{A})\\, \\ldots P(\\bar{A})\\,P(A)$$\n",
    "\n",
    "$P(\\bar{A})$ ist $(x - 1)$ mal\n",
    "\n",
    "$$\\Rightarrow P(X = x) = P(\\bar{A})^{x-1}P(A)$$\n",
    "\n",
    "$$\\Rightarrow \\boxed{P(X = x) = (1 - \\pi)^{x - 1}\\pi}$$\n",
    "\n",
    "<h4>Grenzwert Berechnen:</h4>\n",
    "Das ist auch eine geometrische Folge mit der Formel:\n",
    "\n",
    "$$a_n = \\pi (1 - \\pi)^{n - 1} \\quad \\text{wobei} \\quad n \\in X$$\n",
    "\n",
    "$$\\lim_{n \\to \\infty} a_n = \\pi \\, lim_{n \\to \\infty}(1 - \\pi)^{n - 1}$$\n",
    "\n",
    "$$\\therefore \\lim_{n \\to \\infty} r^n = 0 \\quad \\text{wenn} \\quad \\left| r \\right| < 1$$\n",
    "\n",
    "$$\\Rightarrow \\boxed{\\lim_{n \\to \\infty} a_n = 0} \\quad \\text{weil} \\quad 0 < 1 - \\pi < 1$$\n",
    "\n",
    "d.h. in einer geometrichen Verteilung, die $P(A)$ nähert sich an 0, als x zu unendlich geht. Hier sieht man auch, dass diese Folge monoton fallend ist, d.h. der großte Wert von $P(A)$ ist immer bei $x = 1$, und mit jeden weitern $x$, wird $P(A)$ verkleinert.\n",
    "\n",
    "<h4>Beispiel:</h4>\n",
    "Hier wollen wir die Wahrscheinlichkeiten für unseres Beispiel \"Chinstrap\" für erste 15 Versuche bestimmen:\n",
    "\n",
    "$$P(A) = π = 0.197$$\n",
    "\n",
    "$$P(X = x) = (1 - \\pi)^{x-1} \\pi$$\n",
    "\n",
    "z.B. für $x = 2$:\n",
    "$$\\Rightarrow P(X = 2) = (1 - \\pi)^{2-1} \\pi$$\n",
    "$$\\Rightarrow P(X = 2) = (1 - 0.2) \\, 0.2$$\n",
    "$$\\Rightarrow \\boxed{P(X = 2) = 0.16}$$\n",
    "\n",
    "</span>"
   ]
  },
  {
   "cell_type": "code",
   "execution_count": 19,
   "metadata": {},
   "outputs": [
    {
     "name": "stdout",
     "output_type": "stream",
     "text": [
      "P(X=1) = 0.2\n",
      "P(X=2) = 0.16\n",
      "P(X=3) = 0.13\n",
      "P(X=4) = 0.1\n",
      "P(X=5) = 0.08\n",
      "P(X=6) = 0.07\n",
      "P(X=7) = 0.05\n",
      "P(X=8) = 0.04\n",
      "P(X=9) = 0.03\n",
      "P(X=10) = 0.03\n",
      "P(X=11) = 0.02\n",
      "P(X=12) = 0.02\n",
      "P(X=13) = 0.01\n",
      "P(X=14) = 0.01\n",
      "P(X=15) = 0.01\n"
     ]
    }
   ],
   "source": [
    "#Wahrscheinlichkeiten bestimmen für x = 1 bis 15\n",
    "\n",
    "x = 15\n",
    "P_Xs = []\n",
    "F_Xs = []\n",
    "for i in range(1, x+1):\n",
    "    P_X = ((1 - p) ** (i - 1)) * p\n",
    "    P_Xs.append(round(P_X, 2))\n",
    "\n",
    "    F_X = 1 - (1 - p) ** (i)\n",
    "    F_Xs.append(round(F_X, 2))\n",
    "\n",
    "for i, P_X in enumerate(P_Xs, 1):\n",
    "    print(f\"P(X={i}) = {P_X}\")"
   ]
  },
  {
   "cell_type": "markdown",
   "metadata": {},
   "source": [
    "<span style=\"color: white\">\n",
    "\n",
    "hier haben die Wahrscheinlichkeit beim <i>1.</i> Versuch $0.2$, beim <i>2.</i> Versuch $0.16$, usw. bis zum $0.01$ beim <i>15.</i> Versuch.\n",
    "\n",
    "</span>"
   ]
  },
  {
   "cell_type": "markdown",
   "metadata": {},
   "source": [
    "<span style=\"color: white\">\n",
    "\n",
    "<h3>Verteilungsfunktion</h3>\n",
    "\n",
    "Verteilung ist die kumulative Summe von $P(X)$ bis ein bestimmtes $x$.\n",
    "\n",
    "$$F(X) = P(X \\leq x) = P(X=1) \\, + \\, P(X+2) \\, + \\, \\ldots \\, + \\, P(X=x)$$\n",
    "\n",
    "$$\\Rightarrow F(X) = (1 - \\pi)^0 \\, \\pi \\, + \\, (1 - \\pi)^1 \\, \\pi \\, + \\, \\cdots \\, + \\, (1 - \\pi)^{x-1} \\, \\pi$$\n",
    "\n",
    "$$\\Rightarrow \\boxed{F(X) = \\pi \\, \\sum_{k=0}^{x-1} \\, (1 - \\pi)^k}$$\n",
    "\n",
    "<h4>Grenzwert Berechnen:</h4>\n",
    "Das ist eine geometrische Reihe mit der Formel:\n",
    "\n",
    "$$\\therefore \\sum_{n=0}^{k} \\, q^n = \\frac{1 - q^{k+1}}{1 - q}$$\n",
    "\n",
    "$$\\Rightarrow F(X) = \\pi \\, \\left(\\frac{1 - (1 - \\pi)^{x-1+1}}{1 - (1 - \\pi)}\\right)$$\n",
    "\n",
    "$$\\Rightarrow \\boxed{F(X) = P(X \\leq x) = 1 - (1 - \\pi)^x}$$\n",
    "\n",
    "Das ist auch eine geometrische Folge mit der Formel:\n",
    "\n",
    "$$s_n = 1 - (1 - \\pi)^n \\quad \\text{wobei} \\quad n \\in X$$\n",
    "\n",
    "$$\\lim_{n \\to \\infty} s_n = 1 - \\lim_{n \\to \\infty}(1 - \\pi)^n$$\n",
    "\n",
    "$$\\therefore \\lim_{n \\to \\infty} r^n = 0 \\quad \\text{wenn} \\quad \\left| r \\right| \\leq 1$$\n",
    "\n",
    "$$\\Rightarrow \\boxed{\\lim_{n \\to \\infty} s_n = 1}$$\n",
    "\n",
    "d.h. diese Verteilungsfunktion würde gegen 1 konvergieren, wenn n zu unendlich geht.\n",
    "\n",
    "Die beide Grenzwerte 0 und 1 sind der Beweis, dass $\\pi$ kann nur die Werte zwischen 0 und 1 annehmen kann.\n",
    "\n",
    "<h4>Beispiel:</h4>\n",
    "Hier wollen wir die kumulative Summanten der Wahrscheinlichkeiten berechnen.\n",
    "\n",
    "z.B. für $x = 2$:\n",
    "$$ F(X) = P(X \\leq x) = 1 - (1 - \\pi)^x$$\n",
    "\n",
    "$$\\Rightarrow F(X) = 1 - (1 - 0.2)^2$$\n",
    "$$\\Rightarrow F(X) = 1 - (0.8)^2$$\n",
    "$$\\Rightarrow \\boxed{F(X) = 0.36}$$\n",
    "</span>"
   ]
  },
  {
   "cell_type": "code",
   "execution_count": null,
   "metadata": {},
   "outputs": [
    {
     "name": "stdout",
     "output_type": "stream",
     "text": [
      "F(X<=1) = 0.2\n",
      "F(X<=2) = 0.36\n",
      "F(X<=3) = 0.49\n",
      "F(X<=4) = 0.59\n",
      "F(X<=5) = 0.67\n",
      "F(X<=6) = 0.74\n",
      "F(X<=7) = 0.79\n",
      "F(X<=8) = 0.83\n",
      "F(X<=9) = 0.87\n",
      "F(X<=10) = 0.89\n",
      "F(X<=11) = 0.91\n",
      "F(X<=12) = 0.93\n",
      "F(X<=13) = 0.95\n",
      "F(X<=14) = 0.96\n",
      "F(X<=15) = 0.96\n"
     ]
    }
   ],
   "source": [
    "for i, F_X in enumerate(F_Xs, 1):\n",
    "    print(f\"P(X<={i}) = {F_X}\")"
   ]
  },
  {
   "cell_type": "markdown",
   "metadata": {},
   "source": [
    "<span style=\"color: white\">\n",
    "\n",
    "<h3>Erwartungswert</h3>\n",
    "\n",
    "\n",
    "\n",
    "$$E(X) =  \\frac{1}{P(A)}$$\n",
    "\n",
    "Bsp: Bei einem Würfelwurf ist der Erwartungswert, dass das erste Mal ein 2 (oder irgendeine andere Nummer aus $\\Omega$) eintritt ist:\n",
    "$$E(X = 2) = \\frac{1}{\\frac{1}{6}} = 6$$\n",
    "\n",
    "weil $P(A) = {\\Large \\frac{1}{6}}$ für jedes $\\Large \\omega$ \n",
    "\n",
    "</span>"
   ]
  },
  {
   "cell_type": "code",
   "execution_count": 7,
   "metadata": {},
   "outputs": [
    {
     "name": "stdout",
     "output_type": "stream",
     "text": [
      "E(X) = 5.0\n"
     ]
    }
   ],
   "source": [
    "E_X = round(1 / p, 2)\n",
    "print(f\"E(X) = {E_X}\")"
   ]
  },
  {
   "cell_type": "markdown",
   "metadata": {},
   "source": [
    "<span style=\"color: white\">\n",
    "\n",
    "<h3>Median</h3>\n",
    "\n",
    "$$x = F(X) ≥ 0.5$$\n",
    "\n",
    "</span>"
   ]
  },
  {
   "cell_type": "code",
   "execution_count": 8,
   "metadata": {},
   "outputs": [
    {
     "name": "stdout",
     "output_type": "stream",
     "text": [
      "Median = 4\n"
     ]
    }
   ],
   "source": [
    "for F in F_Xs:\n",
    "    if F >= 0.5:\n",
    "        median = F_Xs.index(F) + 1\n",
    "        break\n",
    "print(f\"Median = {median}\")"
   ]
  },
  {
   "cell_type": "code",
   "execution_count": 9,
   "metadata": {},
   "outputs": [
    {
     "data": {
      "image/png": "[encoded data removed]",
      "text/plain": [
       "<Figure size 1200x600 with 2 Axes>"
      ]
     },
     "metadata": {},
     "output_type": "display_data"
    }
   ],
   "source": [
    "fig, ax = plt.subplots(1, 2, figsize=(12, 6))\n",
    "sns.set_style('ticks')\n",
    "sns.barplot(x=np.arange(1, 16), y=P_Xs, ax=ax[0], color='#009999', edgecolor='black', width=1.0)\n",
    "sns.barplot(x=np.arange(1, 16), y=F_Xs, ax=ax[1], color='#EC6602', edgecolor='black', width=1.0)\n",
    "ax[0].set_title('Wahrscheinlichkeitsverteilung')\n",
    "ax[1].set_title('Verteilungsfunktion')\n",
    "ax[0].set_xlabel('x')\n",
    "ax[0].set_ylabel('P(X=x)')\n",
    "ax[1].set_xlabel('x')\n",
    "ax[1].set_ylabel('P(X<=x)')\n",
    "ax[0].axvline(x=median - 1, color='r', linestyle='--', label=f'Median (x = {median})')\n",
    "ax[0].axvline(x=E_X - 1, color='b', linestyle='--', label=f'Erwartungswert (E(X) = {E_X})')\n",
    "ax[1].axvline(x=median - 1, color='r', linestyle='--', label=f'Median (x = {median})')\n",
    "ax[1].axhline(y=0.5, color='black', linestyle='--', label=f'50% der Werte')\n",
    "ax[0].legend()\n",
    "ax[1].legend()\n",
    "ax[1].set_yticks(np.arange(0, 1.1, 0.1))\n",
    "fig.suptitle('Chinstrap Penguins')\n",
    "plt.tight_layout()\n",
    "plt.show();"
   ]
  },
  {
   "cell_type": "code",
   "execution_count": 10,
   "metadata": {},
   "outputs": [
    {
     "name": "stdout",
     "output_type": "stream",
     "text": [
      "Mittelwert = 5.2\n"
     ]
    }
   ],
   "source": [
    "chinstrap_occ = []\n",
    "position = 0\n",
    "i = 0\n",
    "while i < 100:\n",
    "    position += 1\n",
    "    if df.species.sample(1).values[0] == 'Chinstrap':\n",
    "        chinstrap_occ.append(position)\n",
    "        position = 0\n",
    "        i += 1\n",
    "chinstrap_occ = np.array(chinstrap_occ)\n",
    "avg = round(np.average(chinstrap_occ), 2)\n",
    "print(f\"Mittelwert = {avg}\")"
   ]
  }
 ],
 "metadata": {
  "kernelspec": {
   "display_name": "Python 3",
   "language": "python",
   "name": "python3"
  },
  "language_info": {
   "codemirror_mode": {
    "name": "ipython",
    "version": 3
   },
   "file_extension": ".py",
   "mimetype": "text/x-python",
   "name": "python",
   "nbconvert_exporter": "python",
   "pygments_lexer": "ipython3",
   "version": "3.12.7"
  }
 },
 "nbformat": 4,
 "nbformat_minor": 2
}
